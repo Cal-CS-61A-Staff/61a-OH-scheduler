{
 "cells": [
  {
   "cell_type": "code",
   "execution_count": 23,
   "metadata": {},
   "outputs": [
    {
     "name": "stdout",
     "output_type": "stream",
     "text": [
      "Requirement already satisfied: google-cloud-storage in /Users/Cyrus2021262_1/opt/anaconda3/lib/python3.8/site-packages (2.10.0)\n",
      "Requirement already satisfied: google-auth<3.0dev,>=1.25.0 in /Users/Cyrus2021262_1/opt/anaconda3/lib/python3.8/site-packages (from google-cloud-storage) (2.20.0)\n",
      "Requirement already satisfied: google-api-core!=2.0.*,!=2.1.*,!=2.2.*,!=2.3.0,<3.0.0dev,>=1.31.5 in /Users/Cyrus2021262_1/opt/anaconda3/lib/python3.8/site-packages (from google-cloud-storage) (2.10.2)\n",
      "Requirement already satisfied: google-cloud-core<3.0dev,>=2.3.0 in /Users/Cyrus2021262_1/opt/anaconda3/lib/python3.8/site-packages (from google-cloud-storage) (2.3.3)\n",
      "Requirement already satisfied: google-resumable-media>=2.3.2 in /Users/Cyrus2021262_1/opt/anaconda3/lib/python3.8/site-packages (from google-cloud-storage) (2.5.0)\n",
      "Requirement already satisfied: requests<3.0.0dev,>=2.18.0 in /Users/Cyrus2021262_1/opt/anaconda3/lib/python3.8/site-packages (from google-cloud-storage) (2.31.0)\n",
      "Requirement already satisfied: googleapis-common-protos<2.0dev,>=1.56.2 in /Users/Cyrus2021262_1/opt/anaconda3/lib/python3.8/site-packages (from google-api-core!=2.0.*,!=2.1.*,!=2.2.*,!=2.3.0,<3.0.0dev,>=1.31.5->google-cloud-storage) (1.56.4)\n",
      "Requirement already satisfied: protobuf!=3.20.0,!=3.20.1,!=4.21.0,!=4.21.1,!=4.21.2,!=4.21.3,!=4.21.4,!=4.21.5,<5.0.0dev,>=3.19.5 in /Users/Cyrus2021262_1/opt/anaconda3/lib/python3.8/site-packages (from google-api-core!=2.0.*,!=2.1.*,!=2.2.*,!=2.3.0,<3.0.0dev,>=1.31.5->google-cloud-storage) (4.21.9)\n",
      "Requirement already satisfied: cachetools<6.0,>=2.0.0 in /Users/Cyrus2021262_1/opt/anaconda3/lib/python3.8/site-packages (from google-auth<3.0dev,>=1.25.0->google-cloud-storage) (5.0.0)\n",
      "Requirement already satisfied: pyasn1-modules>=0.2.1 in /Users/Cyrus2021262_1/opt/anaconda3/lib/python3.8/site-packages (from google-auth<3.0dev,>=1.25.0->google-cloud-storage) (0.2.8)\n",
      "Requirement already satisfied: rsa<5,>=3.1.4 in /Users/Cyrus2021262_1/opt/anaconda3/lib/python3.8/site-packages (from google-auth<3.0dev,>=1.25.0->google-cloud-storage) (4.8)\n",
      "Requirement already satisfied: six>=1.9.0 in /Users/Cyrus2021262_1/opt/anaconda3/lib/python3.8/site-packages (from google-auth<3.0dev,>=1.25.0->google-cloud-storage) (1.15.0)\n",
      "Requirement already satisfied: urllib3<2.0 in /Users/Cyrus2021262_1/opt/anaconda3/lib/python3.8/site-packages (from google-auth<3.0dev,>=1.25.0->google-cloud-storage) (1.26.4)\n",
      "Requirement already satisfied: google-crc32c<2.0dev,>=1.0 in /Users/Cyrus2021262_1/opt/anaconda3/lib/python3.8/site-packages (from google-resumable-media>=2.3.2->google-cloud-storage) (1.5.0)\n",
      "Requirement already satisfied: charset-normalizer<4,>=2 in /Users/Cyrus2021262_1/opt/anaconda3/lib/python3.8/site-packages (from requests<3.0.0dev,>=2.18.0->google-cloud-storage) (2.0.12)\n",
      "Requirement already satisfied: idna<4,>=2.5 in /Users/Cyrus2021262_1/opt/anaconda3/lib/python3.8/site-packages (from requests<3.0.0dev,>=2.18.0->google-cloud-storage) (2.10)\n",
      "Requirement already satisfied: certifi>=2017.4.17 in /Users/Cyrus2021262_1/opt/anaconda3/lib/python3.8/site-packages (from requests<3.0.0dev,>=2.18.0->google-cloud-storage) (2020.12.5)\n",
      "Requirement already satisfied: pyasn1<0.5.0,>=0.4.6 in /Users/Cyrus2021262_1/opt/anaconda3/lib/python3.8/site-packages (from pyasn1-modules>=0.2.1->google-auth<3.0dev,>=1.25.0->google-cloud-storage) (0.4.8)\n",
      "\u001b[33mDEPRECATION: pyodbc 4.0.0-unsupported has a non-standard version number. pip 23.3 will enforce this behaviour change. A possible replacement is to upgrade to a newer version of pyodbc or contact the author to suggest that they release a version with a conforming version number. Discussion can be found at https://github.com/pypa/pip/issues/12063\u001b[0m\u001b[33m\n",
      "\u001b[0m\n",
      "\u001b[1m[\u001b[0m\u001b[34;49mnotice\u001b[0m\u001b[1;39;49m]\u001b[0m\u001b[39;49m A new release of pip is available: \u001b[0m\u001b[31;49m23.2\u001b[0m\u001b[39;49m -> \u001b[0m\u001b[32;49m23.2.1\u001b[0m\n",
      "\u001b[1m[\u001b[0m\u001b[34;49mnotice\u001b[0m\u001b[1;39;49m]\u001b[0m\u001b[39;49m To update, run: \u001b[0m\u001b[32;49mpip install --upgrade pip\u001b[0m\n",
      "Note: you may need to restart the kernel to use updated packages.\n"
     ]
    }
   ],
   "source": [
    "pip install --upgrade google-cloud-storage"
   ]
  },
  {
   "cell_type": "code",
   "execution_count": 34,
   "metadata": {},
   "outputs": [],
   "source": [
    "import State\n",
    "import utils\n",
    "import os"
   ]
  },
  {
   "cell_type": "code",
   "execution_count": 39,
   "metadata": {},
   "outputs": [
    {
     "name": "stdout",
     "output_type": "stream",
     "text": [
      "The autoreload extension is already loaded. To reload it, use:\n",
      "  %reload_ext autoreload\n",
      "61a-fa23/\n",
      "61a-fa23/3.pkl\n"
     ]
    }
   ],
   "source": [
    "%load_ext autoreload\n",
    "%autoreload 2\n",
    "os.environ[\"GOOGLE_APPLICATION_CREDENTIALS\"] = \"credentials.json\"\n",
    "bucket = utils.deserialize(\"cs61a-140900\", \"oh-scheduler\", 3, 2, prefix=\"61a-fa23/\")"
   ]
  },
  {
   "cell_type": "code",
   "execution_count": 40,
   "metadata": {},
   "outputs": [
    {
     "name": "stdout",
     "output_type": "stream",
     "text": [
      "Class name: 61a\n",
      "Semester: fa23\n",
      "Previous state: None\n",
      "Week number: 3\n",
      "Weeks remaining: 14\n",
      "Course staff email keys: ['raymondtan@berkeley.edu', 'a.brooks@berkeley.edu', 'mingxiaowei@berkeley.edu', 'ritiksinha1@berkeley.edu', 'kennywchen@berkeley.edu', 'awang03@berkeley.edu', 'bryanchu8@berkeley.edu', 'priyavenugopal@berkeley.edu', 'ek0335@berkeley.edu', 'williamding@berkeley.edu', 'brywong@berkeley.edu', 'rachelmkim@berkeley.edu', 'ronaldarifin@berkeley.edu', 'vyho@berkeley.edu', 'suhanisinghal04@berkeley.edu', 'christinayao@berkeley.edu', 'matthew.t.nguyen@berkeley.edu', 'raymondzhao@berkeley.edu', 'yihhang@berkeley.edu', 'jadewang26@berkeley.edu', 'classon@berkeley.edu', 'aureliawang@berkeley.edu', 'rikio@berkeley.edu', 'runjeetnarula@berkeley.edu', 'huanzhimao@berkeley.edu', 'mhaq01@berkeley.edu', 'haileeyun@berkeley.edu', 'adara@berkeley.edu', 'agopalan@berkeley.edu', 'kevin.x.han@berkeley.edu', 'alan101@berkeley.edu', 'jk.vismante@berkeley.edu', 'anto@berkeley.edu', 'cyrushung822@berkeley.edu', 'richik.pal@berkeley.edu', 'sophiawliu@berkeley.edu', 'thomasjculhane@berkeley.edu', 'esduan@berkeley.edu', 'ananthgoyal@berkeley.edu', 'mihirm@berkeley.edu', 'shamith09@berkeley.edu', 'juliaisaac@berkeley.edu', 'riya.singhal@berkeley.edu', 'arnoldcai@berkeley.edu', 'malavikhasudarshan@berkeley.edu', 'paulsatwika6@berkeley.edu', 'eileenchang@berkeley.edu', 'ssurzhak@berkeley.edu', 'darlnim.park@berkeley.edu']\n",
      "Bi-directional mappings: {'raymondtan@berkeley.edu': 0, 'a.brooks@berkeley.edu': 1, 'mingxiaowei@berkeley.edu': 2, 'ritiksinha1@berkeley.edu': 3, 'kennywchen@berkeley.edu': 4, 'awang03@berkeley.edu': 5, 'bryanchu8@berkeley.edu': 6, 'priyavenugopal@berkeley.edu': 7, 'ek0335@berkeley.edu': 8, 'williamding@berkeley.edu': 9, 'brywong@berkeley.edu': 10, 'rachelmkim@berkeley.edu': 11, 'ronaldarifin@berkeley.edu': 12, 'vyho@berkeley.edu': 13, 'suhanisinghal04@berkeley.edu': 14, 'christinayao@berkeley.edu': 15, 'matthew.t.nguyen@berkeley.edu': 16, 'raymondzhao@berkeley.edu': 17, 'yihhang@berkeley.edu': 18, 'jadewang26@berkeley.edu': 19, 'classon@berkeley.edu': 20, 'aureliawang@berkeley.edu': 21, 'rikio@berkeley.edu': 22, 'runjeetnarula@berkeley.edu': 23, 'huanzhimao@berkeley.edu': 24, 'mhaq01@berkeley.edu': 25, 'haileeyun@berkeley.edu': 26, 'adara@berkeley.edu': 27, 'agopalan@berkeley.edu': 28, 'kevin.x.han@berkeley.edu': 29, 'alan101@berkeley.edu': 30, 'jk.vismante@berkeley.edu': 31, 'anto@berkeley.edu': 32, 'cyrushung822@berkeley.edu': 33, 'richik.pal@berkeley.edu': 34, 'sophiawliu@berkeley.edu': 35, 'thomasjculhane@berkeley.edu': 36, 'esduan@berkeley.edu': 37, 'ananthgoyal@berkeley.edu': 38, 'mihirm@berkeley.edu': 39, 'shamith09@berkeley.edu': 40, 'juliaisaac@berkeley.edu': 41, 'riya.singhal@berkeley.edu': 42, 'arnoldcai@berkeley.edu': 43, 'malavikhasudarshan@berkeley.edu': 44, 'paulsatwika6@berkeley.edu': 45, 'eileenchang@berkeley.edu': 46, 'ssurzhak@berkeley.edu': 47, 'darlnim.park@berkeley.edu': 48}, Inverse: {0: 'raymondtan@berkeley.edu', 1: 'a.brooks@berkeley.edu', 2: 'mingxiaowei@berkeley.edu', 3: 'ritiksinha1@berkeley.edu', 4: 'kennywchen@berkeley.edu', 5: 'awang03@berkeley.edu', 6: 'bryanchu8@berkeley.edu', 7: 'priyavenugopal@berkeley.edu', 8: 'ek0335@berkeley.edu', 9: 'williamding@berkeley.edu', 10: 'brywong@berkeley.edu', 11: 'rachelmkim@berkeley.edu', 12: 'ronaldarifin@berkeley.edu', 13: 'vyho@berkeley.edu', 14: 'suhanisinghal04@berkeley.edu', 15: 'christinayao@berkeley.edu', 16: 'matthew.t.nguyen@berkeley.edu', 17: 'raymondzhao@berkeley.edu', 18: 'yihhang@berkeley.edu', 19: 'jadewang26@berkeley.edu', 20: 'classon@berkeley.edu', 21: 'aureliawang@berkeley.edu', 22: 'rikio@berkeley.edu', 23: 'runjeetnarula@berkeley.edu', 24: 'huanzhimao@berkeley.edu', 25: 'mhaq01@berkeley.edu', 26: 'haileeyun@berkeley.edu', 27: 'adara@berkeley.edu', 28: 'agopalan@berkeley.edu', 29: 'kevin.x.han@berkeley.edu', 30: 'alan101@berkeley.edu', 31: 'jk.vismante@berkeley.edu', 32: 'anto@berkeley.edu', 33: 'cyrushung822@berkeley.edu', 34: 'richik.pal@berkeley.edu', 35: 'sophiawliu@berkeley.edu', 36: 'thomasjculhane@berkeley.edu', 37: 'esduan@berkeley.edu', 38: 'ananthgoyal@berkeley.edu', 39: 'mihirm@berkeley.edu', 40: 'shamith09@berkeley.edu', 41: 'juliaisaac@berkeley.edu', 42: 'riya.singhal@berkeley.edu', 43: 'arnoldcai@berkeley.edu', 44: 'malavikhasudarshan@berkeley.edu', 45: 'paulsatwika6@berkeley.edu', 46: 'eileenchang@berkeley.edu', 47: 'ssurzhak@berkeley.edu', 48: 'darlnim.park@berkeley.edu'}\n",
      "Rows parsed: 49\n",
      "Day ones: 49\n",
      "OH demand: [[[ 0, 0, 0, 0, 0, 0, 0, 0, 0, 0, 0, 0],\n",
      "  [ 0, 0, 0, 0, 0, 0, 0, 0, 0, 0, 0, 0],\n",
      "  [ 0, 0, 0, 0, 0, 0, 0, 0, 0, 0, 0, 0],\n",
      "  [ 0, 0, 0, 0, 0, 0, 0, 0, 0, 0, 0, 0],\n",
      "  [ 0, 0, 0, 0, 0, 0, 0, 0, 0, 0, 0, 0]],\n",
      "\n",
      " [[ 0, 2, 0, 0, 0, 3, 3, 3, 3, 5, 5, 0],\n",
      "  [ 4, 2, 6, 0, 0, 0, 0, 0, 3, 3, 4, 0],\n",
      "  [ 0, 2, 2, 0, 0, 2, 5, 6, 6, 4, 2, 0],\n",
      "  [ 5, 3, 3, 0, 0, 0, 0, 0, 5, 5, 5, 0],\n",
      "  [ 0, 0, 0, 0, 0, 0, 0, 0, 0, 0, 0, 0]],\n",
      "\n",
      " [[ 0, 0, 0, 0, 0, 0, 0, 0, 0, 0, 0, 0],\n",
      "  [ 4, 4, 4, 0, 0, 4, 4, 4,10,10, 8, 0],\n",
      "  [ 0, 0, 0, 0, 0, 0, 0, 6, 6, 6, 6, 0],\n",
      "  [ 4, 4, 4, 0, 0, 0, 0, 0, 6, 8, 6, 0],\n",
      "  [ 0, 0, 0, 0, 0, 0, 0, 0, 0, 0, 0, 0]],\n",
      "\n",
      " [[ 0, 2, 2, 0, 0, 8, 8, 8, 0, 0, 0, 0],\n",
      "  [ 4, 4, 6, 0, 0, 0, 0,10,10, 4, 0, 0],\n",
      "  [ 0, 2, 2, 0, 0, 4, 8, 8,10,10, 2, 0],\n",
      "  [ 3, 3, 3, 0, 0, 0, 0, 0, 4, 4, 4, 0],\n",
      "  [ 0, 0, 0, 0, 0, 0, 0, 0, 0, 0, 0, 0]],\n",
      "\n",
      " [[ 0, 2, 2, 0, 0, 4, 6, 5, 5, 6, 6, 0],\n",
      "  [ 4, 2, 6, 0, 0, 0, 0, 0, 6, 6, 4, 0],\n",
      "  [ 0, 2, 2, 0, 0, 2, 6, 8, 6, 4, 2, 0],\n",
      "  [ 5, 5, 5, 0, 0, 0, 0, 0, 6, 6, 6, 0],\n",
      "  [ 0, 0, 0, 0, 0, 0, 0, 0, 0, 0, 0, 0]],\n",
      "\n",
      " [[ 0, 2, 2, 0, 0, 4, 6, 5, 5, 6, 6, 0],\n",
      "  [ 4, 2, 4, 0, 0, 0, 0, 0, 6, 6, 4, 0],\n",
      "  [ 0, 2, 2, 0, 0, 2, 6, 6,10,10, 2, 0],\n",
      "  [ 5, 5, 5, 0, 0, 0, 0, 0,10,10, 6, 0],\n",
      "  [ 0, 0, 0, 0, 0, 0, 0, 0, 0, 0, 0, 0]],\n",
      "\n",
      " [[ 0, 2, 2, 0, 0, 4, 6, 5,10,10, 6, 0],\n",
      "  [ 4, 2, 6, 0, 0, 0, 0, 0,10,10, 4, 0],\n",
      "  [ 0, 2, 2, 0, 0, 2, 6, 8, 6, 4, 2, 0],\n",
      "  [ 5, 5, 5, 0, 0, 0, 0, 0, 6, 6, 6, 0],\n",
      "  [ 0, 0, 0, 0, 0, 0, 0, 0, 0, 0, 0, 0]],\n",
      "\n",
      " [[ 0, 2, 2, 0, 0, 4, 5, 5, 5, 5, 5, 0],\n",
      "  [ 4, 2, 5, 0, 0, 0, 0, 0, 8, 8, 4, 0],\n",
      "  [ 0, 2, 2, 0, 0, 2, 5, 6, 8, 8, 2, 0],\n",
      "  [ 5, 5, 5, 0, 0, 0, 0, 0, 6, 6, 6, 0],\n",
      "  [ 0, 0, 0, 0, 0, 0, 0, 0, 0, 0, 0, 0]],\n",
      "\n",
      " [[ 0, 2, 2, 0, 0, 4, 5, 5, 8, 8, 8, 0],\n",
      "  [ 4, 2, 6, 0, 0, 0, 0, 0, 8, 8, 4, 0],\n",
      "  [ 0, 2, 2, 0, 0, 2, 8, 8, 8, 4, 2, 0],\n",
      "  [ 5, 5, 5, 0, 0, 0, 0, 0, 6, 6, 6, 0],\n",
      "  [ 0, 0, 0, 0, 0, 0, 0, 0, 0, 0, 0, 0]],\n",
      "\n",
      " [[ 0, 2, 2, 0, 0, 2, 3, 3, 3, 3, 3, 0],\n",
      "  [ 4, 2, 3, 0, 0, 0, 0, 0, 3, 3, 3, 0],\n",
      "  [ 0, 2, 2, 0, 0, 2, 5, 5, 6, 4, 2, 0],\n",
      "  [ 5, 6, 6, 0, 0, 0, 0, 0, 6, 6, 8, 0],\n",
      "  [ 0, 0, 0, 0, 0, 0, 0, 0, 0, 0, 0, 0]],\n",
      "\n",
      " [[ 0, 2, 2, 0, 0, 4, 6, 5, 5, 6, 6, 0],\n",
      "  [ 4, 2, 6, 0, 0, 0, 0, 0, 6, 6, 4, 0],\n",
      "  [ 0, 2, 2, 0, 0, 2, 6, 8, 6, 4, 2, 0],\n",
      "  [ 5, 5, 5, 0, 0, 0, 0, 0, 6, 6, 6, 0],\n",
      "  [ 0, 0, 0, 0, 0, 0, 0, 0, 0, 0, 0, 0]],\n",
      "\n",
      " [[ 0, 2, 2, 0, 0, 4, 6, 5, 5, 6, 6, 0],\n",
      "  [ 4, 2, 6, 0, 0, 0, 0, 0, 6, 6, 4, 0],\n",
      "  [ 0, 2, 2, 0, 0, 2, 8,10, 8, 4, 2, 0],\n",
      "  [ 5, 5, 5, 0, 0, 0, 0, 0, 6, 6, 6, 0],\n",
      "  [ 0, 0, 0, 0, 0, 0, 0, 0, 0, 0, 0, 0]],\n",
      "\n",
      " [[ 0, 2, 2, 0, 0, 2, 4, 3, 3, 3, 4, 0],\n",
      "  [ 4, 2, 3, 0, 0, 0, 0, 0, 4, 4, 4, 0],\n",
      "  [ 0, 2, 2, 0, 0, 2, 4, 6, 3, 3, 3, 0],\n",
      "  [ 3, 3, 3, 0, 0, 0, 0, 0, 8, 8, 3, 0],\n",
      "  [ 0, 0, 0, 0, 0, 0, 0, 0, 0, 0, 0, 0]],\n",
      "\n",
      " [[ 0, 2, 2, 0, 0, 4, 8, 5, 8, 8, 6, 0],\n",
      "  [ 4, 2, 6, 0, 0, 0, 0, 0, 8, 8, 4, 0],\n",
      "  [ 0, 2, 2, 0, 0, 0, 0, 0, 0, 0, 0, 0],\n",
      "  [ 0, 0, 0, 0, 0, 0, 0, 0, 0, 0, 0, 0],\n",
      "  [ 0, 0, 0, 0, 0, 0, 0, 0, 0, 0, 0, 0]],\n",
      "\n",
      " [[ 0, 2, 2, 0, 0, 4, 6, 5, 5, 6, 6, 0],\n",
      "  [ 4, 2, 6, 0, 0, 0, 0, 0, 6, 6, 4, 0],\n",
      "  [ 0, 2, 2, 0, 0, 2, 6, 6, 6, 4, 2, 0],\n",
      "  [ 5, 5, 5, 0, 0, 0, 0, 0, 6, 6, 6, 0],\n",
      "  [ 0, 0, 0, 0, 0, 0, 0, 0, 0, 0, 0, 0]],\n",
      "\n",
      " [[ 0, 0, 0, 0, 0, 0, 0, 0, 0, 0, 0, 0],\n",
      "  [ 0, 0, 0, 0, 0, 0, 0, 0, 0, 0, 0, 0],\n",
      "  [ 0, 0, 0, 0, 0, 0, 0, 0, 0, 0, 0, 0],\n",
      "  [ 0, 0, 0, 0, 0, 0, 0, 0, 0, 0, 0, 0],\n",
      "  [ 0, 0, 0, 0, 0, 0, 0, 0, 0, 0, 0, 0]]]\n",
      "Max weekly multiplier: 2\n",
      "\n"
     ]
    }
   ],
   "source": [
    "print(bucket)"
   ]
  },
  {
   "cell_type": "code",
   "execution_count": 42,
   "metadata": {},
   "outputs": [
    {
     "data": {
      "text/plain": [
       "array([[0., 0., 0., 0., 0., 0., 0., 0., 0., 0., 0., 0.],\n",
       "       [0., 0., 0., 0., 0., 0., 0., 0., 0., 0., 0., 0.],\n",
       "       [0., 0., 0., 0., 0., 0., 0., 0., 0., 0., 0., 0.],\n",
       "       [0., 0., 0., 0., 0., 0., 0., 0., 0., 0., 0., 0.],\n",
       "       [0., 0., 0., 0., 0., 0., 0., 0., 0., 0., 0., 0.]])"
      ]
     },
     "execution_count": 42,
     "metadata": {},
     "output_type": "execute_result"
    }
   ],
   "source": [
    "bucket.course_staff_dict[\"ritiksinha1@berkeley.edu\"].assigned_hours"
   ]
  },
  {
   "cell_type": "code",
   "execution_count": 44,
   "metadata": {},
   "outputs": [],
   "source": [
    "def get_assignments(state, email):\n",
    "    return state.course_staff_dict[email].assigned_hours\n",
    "\n",
    "def set_assignments(state, email, assignments):\n",
    "    if not ininstance(assignments, np.ndarray) or assignments.shape != (5, 12):\n",
    "        print( \"error\")\n",
    "        return\n",
    "    state.course_staff_dict[email].set_assignment(assignments)\n",
    "\n",
    "def set_random_assignments(state, email, additional_hours):\n",
    "    current = get_assignments(state, email)\n",
    "    zero_indices = np.argwhere(current == 0)\n",
    "    \n",
    "    if num > len(zero_indices):\n",
    "        raise ValueError(f\"There are only {len(zero_indices)} zeroes. Can't turn {num} of them into ones.\")\n",
    "    \n",
    "    selected_indices = zero_indices[np.random.choice(zero_indices.shape[0], additional_hours, replace=False)]\n",
    "    \n",
    "    for idx in selected_indices:\n",
    "        current[tuple(idx)] = 1\n",
    "    \n",
    "    set_assignments(state, email, current)\n",
    "    "
   ]
  },
  {
   "cell_type": "code",
   "execution_count": null,
   "metadata": {},
   "outputs": [],
   "source": []
  }
 ],
 "metadata": {
  "kernelspec": {
   "display_name": "Python 3",
   "language": "python",
   "name": "python3"
  },
  "language_info": {
   "codemirror_mode": {
    "name": "ipython",
    "version": 3
   },
   "file_extension": ".py",
   "mimetype": "text/x-python",
   "name": "python",
   "nbconvert_exporter": "python",
   "pygments_lexer": "ipython3",
   "version": "3.8.8"
  }
 },
 "nbformat": 4,
 "nbformat_minor": 2
}
