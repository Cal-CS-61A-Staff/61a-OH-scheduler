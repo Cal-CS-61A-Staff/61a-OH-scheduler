{
 "cells": [
  {
   "cell_type": "code",
   "execution_count": 123,
   "metadata": {},
   "outputs": [],
   "source": [
    "import numpy as np"
   ]
  },
  {
   "cell_type": "code",
   "execution_count": 124,
   "metadata": {},
   "outputs": [],
   "source": [
    "a = np.load(\"assignments.npy\")\n",
    "d = np.load(\"demand.npy\")"
   ]
  },
  {
   "cell_type": "code",
   "execution_count": 125,
   "metadata": {},
   "outputs": [
    {
     "data": {
      "text/plain": [
       "(22, 5, 12)"
      ]
     },
     "execution_count": 125,
     "metadata": {},
     "output_type": "execute_result"
    }
   ],
   "source": [
    "a[:, 0, :, :].shape"
   ]
  },
  {
   "cell_type": "code",
   "execution_count": 126,
   "metadata": {},
   "outputs": [],
   "source": [
    "np.save(\"week5_assignments.npy\", a[:, 0,:,:])"
   ]
  },
  {
   "cell_type": "code",
   "execution_count": 127,
   "metadata": {},
   "outputs": [
    {
     "data": {
      "text/plain": [
       "96.0"
      ]
     },
     "execution_count": 127,
     "metadata": {},
     "output_type": "execute_result"
    }
   ],
   "source": [
    "a[:, 0, :, :].sum()"
   ]
  },
  {
   "cell_type": "code",
   "execution_count": 128,
   "metadata": {},
   "outputs": [
    {
     "data": {
      "text/plain": [
       "array([3., 5., 5., 5., 5., 5., 5., 5., 5., 4., 5., 3., 4., 5., 3., 4., 5.,\n",
       "       4., 3., 3., 5., 5.])"
      ]
     },
     "execution_count": 128,
     "metadata": {},
     "output_type": "execute_result"
    }
   ],
   "source": [
    "a[:, 0, :, :].sum((1, 2))"
   ]
  },
  {
   "cell_type": "code",
   "execution_count": 129,
   "metadata": {},
   "outputs": [
    {
     "data": {
      "text/plain": [
       "array([[0., 0., 0., 0., 0., 0., 0., 0., 0., 1., 2., 0.],\n",
       "       [0., 0., 0., 0., 0., 0., 0., 0., 0., 0., 0., 0.],\n",
       "       [0., 0., 0., 0., 0., 0., 0., 0., 0., 0., 0., 0.],\n",
       "       [0., 0., 0., 0., 0., 0., 0., 0., 0., 0., 0., 0.],\n",
       "       [0., 0., 0., 0., 0., 0., 0., 0., 0., 0., 0., 0.]])"
      ]
     },
     "execution_count": 129,
     "metadata": {},
     "output_type": "execute_result"
    }
   ],
   "source": [
    "d[4, :, :] - a[:, 0, :, :].sum(0)"
   ]
  },
  {
   "cell_type": "code",
   "execution_count": 122,
   "metadata": {},
   "outputs": [
    {
     "data": {
      "text/plain": [
       "array([[0, 0, 0, 0, 0, 6, 6, 6, 0, 3, 3, 0],\n",
       "       [0, 0, 0, 0, 3, 3, 3, 4, 5, 4, 3, 3],\n",
       "       [0, 0, 0, 0, 3, 3, 3, 2, 2, 0, 0, 0],\n",
       "       [0, 0, 0, 0, 3, 3, 4, 5, 4, 0, 3, 3],\n",
       "       [0, 0, 0, 0, 3, 3, 3, 0, 0, 0, 0, 0]])"
      ]
     },
     "execution_count": 122,
     "metadata": {},
     "output_type": "execute_result"
    }
   ],
   "source": [
    "d[4, :, :]"
   ]
  },
  {
   "cell_type": "code",
   "execution_count": 107,
   "metadata": {},
   "outputs": [
    {
     "data": {
      "text/plain": [
       "array([[0., 0., 0., 0., 0., 6., 6., 6., 0., 2., 1., 0.],\n",
       "       [0., 0., 0., 0., 3., 3., 3., 4., 5., 4., 3., 3.],\n",
       "       [0., 0., 0., 0., 3., 3., 3., 2., 2., 0., 0., 0.],\n",
       "       [0., 0., 0., 0., 3., 3., 4., 5., 4., 0., 3., 3.],\n",
       "       [0., 0., 0., 0., 3., 3., 3., 0., 0., 0., 0., 0.]])"
      ]
     },
     "execution_count": 107,
     "metadata": {},
     "output_type": "execute_result"
    }
   ],
   "source": [
    "a[:, 0, :, :].sum(0)"
   ]
  },
  {
   "cell_type": "code",
   "execution_count": 108,
   "metadata": {},
   "outputs": [
    {
     "data": {
      "text/plain": [
       "array([[0, 0, 0, 0, 0, 6, 6, 6, 0, 3, 3, 0],\n",
       "       [0, 0, 0, 0, 3, 3, 3, 4, 5, 4, 3, 3],\n",
       "       [0, 0, 0, 0, 3, 3, 3, 2, 2, 0, 0, 0],\n",
       "       [0, 0, 0, 0, 3, 3, 4, 5, 4, 0, 3, 3],\n",
       "       [0, 0, 0, 0, 3, 3, 3, 0, 0, 0, 0, 0]])"
      ]
     },
     "execution_count": 108,
     "metadata": {},
     "output_type": "execute_result"
    }
   ],
   "source": [
    "d[4, :, :]"
   ]
  },
  {
   "cell_type": "code",
   "execution_count": 18,
   "metadata": {},
   "outputs": [
    {
     "data": {
      "text/plain": [
       "array([[0, 0, 0, 0, 0, 6, 6, 6, 0, 3, 3, 0],\n",
       "       [0, 0, 0, 0, 3, 3, 3, 4, 5, 4, 3, 3],\n",
       "       [0, 0, 0, 0, 3, 3, 3, 2, 2, 0, 0, 0],\n",
       "       [0, 0, 0, 0, 3, 3, 4, 5, 4, 0, 3, 3],\n",
       "       [0, 0, 0, 0, 3, 3, 3, 0, 0, 0, 0, 0]])"
      ]
     },
     "execution_count": 18,
     "metadata": {},
     "output_type": "execute_result"
    }
   ],
   "source": [
    "d[4, :, :]"
   ]
  },
  {
   "cell_type": "code",
   "execution_count": 15,
   "metadata": {},
   "outputs": [
    {
     "data": {
      "text/plain": [
       "array([[ 0.,  0.,  0.,  0.,  0.,  0.,  0.,  0.,  0., -1., -2.,  0.],\n",
       "       [ 0.,  0.,  0.,  0.,  0.,  0.,  0.,  0.,  0.,  0.,  0.,  0.],\n",
       "       [ 0.,  0.,  0.,  0.,  0.,  0.,  0.,  0.,  0.,  0.,  0.,  0.],\n",
       "       [ 0.,  0.,  0.,  0.,  0.,  0.,  0.,  0.,  0.,  0.,  0.,  0.],\n",
       "       [ 0.,  0.,  0.,  0.,  0.,  0.,  0.,  0.,  0.,  0.,  0.,  0.]])"
      ]
     },
     "execution_count": 15,
     "metadata": {},
     "output_type": "execute_result"
    }
   ],
   "source": [
    "a.sum(0) - d[4, :, :]"
   ]
  },
  {
   "cell_type": "code",
   "execution_count": 78,
   "metadata": {},
   "outputs": [
    {
     "data": {
      "text/plain": [
       "array([[ 3.,  2.,  2.,  1.,  3.],\n",
       "       [ 3.,  9.,  4.,  5.,  6.],\n",
       "       [ 5.,  9.,  7.,  5.,  5.],\n",
       "       [ 1.,  2.,  3.,  3.,  0.],\n",
       "       [ 4.,  5.,  6.,  8.,  5.],\n",
       "       [ 4.,  4.,  6.,  4.,  4.],\n",
       "       [ 4., 10.,  8.,  9.,  7.],\n",
       "       [ 3., 10.,  6.,  8.,  5.],\n",
       "       [ 4.,  4.,  4.,  4.,  5.],\n",
       "       [ 3.,  5.,  4.,  5.,  5.],\n",
       "       [ 4., 10., 10.,  6.,  8.],\n",
       "       [ 2.,  2.,  2.,  2.,  0.],\n",
       "       [ 4.,  4.,  4.,  4.,  3.],\n",
       "       [ 3.,  3.,  5.,  6.,  4.],\n",
       "       [ 3.,  4.,  4.,  4.,  2.],\n",
       "       [ 2.,  4.,  3.,  4.,  0.],\n",
       "       [ 2.,  4.,  3.,  3.,  3.],\n",
       "       [ 5.,  4.,  4.,  4.,  2.],\n",
       "       [ 2.,  3.,  4.,  3.,  3.],\n",
       "       [ 2.,  2.,  3.,  3.,  2.],\n",
       "       [ 2.,  4.,  3.,  4.,  3.],\n",
       "       [ 2.,  5.,  5.,  6.,  2.]])"
      ]
     },
     "execution_count": 78,
     "metadata": {},
     "output_type": "execute_result"
    }
   ],
   "source": [
    "a.sum((2, 3))"
   ]
  }
 ],
 "metadata": {
  "kernelspec": {
   "display_name": "OH_scheduler",
   "language": "python",
   "name": "python3"
  },
  "language_info": {
   "codemirror_mode": {
    "name": "ipython",
    "version": 3
   },
   "file_extension": ".py",
   "mimetype": "text/x-python",
   "name": "python",
   "nbconvert_exporter": "python",
   "pygments_lexer": "ipython3",
   "version": "3.11.3"
  },
  "orig_nbformat": 4
 },
 "nbformat": 4,
 "nbformat_minor": 2
}
