{
 "cells": [
  {
   "cell_type": "code",
   "execution_count": null,
   "metadata": {},
   "outputs": [],
   "source": [
    "!pip install --upgrade google-cloud-storage\n",
    "!pip install cvxpy\n",
    "!pip install cvxopt"
   ]
  },
  {
   "cell_type": "code",
   "execution_count": null,
   "metadata": {},
   "outputs": [],
   "source": [
    "import State\n",
    "import utils\n",
    "import os"
   ]
  },
  {
   "cell_type": "code",
   "execution_count": null,
   "metadata": {},
   "outputs": [],
   "source": [
    "%load_ext autoreload\n",
    "import config_read\n",
    "import send_email\n",
    "import utils\n",
    "import State\n",
    "import tests \n",
    "import os\n",
    "import numpy as np\n",
    "import shutil\n",
    "from datetime import timedelta\n",
    "import re\n",
    "from google.cloud import storage\n",
    "from google.api_core.exceptions import Forbidden, NotFound\n",
    "import validation\n",
    "import algorithm\n",
    "\n",
    "AVAILABILITIES_RANGE = 'Form Responses 1!B1:BP'\n",
    "DEMAND_RANGE = 'Demand!A2:E'\n",
    "\n",
    "config = config_read.read_config(\"config.json\")\n",
    "validation.validate_config(config)\n",
    "\n",
    "# Get availabilities data\n",
    "availabilities_id = config_read.get_google_sheets_id(config[\"availabilities_link\"])\n",
    "availabilities = utils.get_availabilities(availabilities_id, AVAILABILITIES_RANGE)\n",
    "validation.validate_availabilities(availabilities)\n",
    "\n",
    "# Get OH demand data\n",
    "demand_id = config_read.get_google_sheets_id(config[\"demand_link\"])\n",
    "demand = utils.get_demand(demand_id, DEMAND_RANGE, config[\"weeks\"])\n",
    "\n",
    "# Get last state\n",
    "prefix = f\"{config['class']}-{config['semester']}\"\n",
    "latest_week = -1\n",
    "print(latest_week)\n",
    "if latest_week > -1:\n",
    "    last_state = utils.deserialize(config.get(\"project_id\"), config[\"bucket_name\"], latest_week, config[\"weeks_skipped\"], prefix)\n",
    "else:\n",
    "    last_state = None\n",
    "\n",
    "if last_state and last_state.week_num == config[\"weeks\"]:\n",
    "    print(f\"ERROR: The algorithm has already been run for all weeks. The last state was for week {config['weeks']}. Exiting.\")\n",
    "\n",
    "if latest_week == config['weeks']:\n",
    "    raise RuntimeError(\"Allotted # of weeks have already passed. Exiting.\")\n",
    "\n",
    "# Create new state object\n",
    "state = State.State(last_state, \n",
    "                    demand, \n",
    "                    availabilities, \n",
    "                    config[\"class\"], \n",
    "                    config[\"semester\"], \n",
    "                    config[\"weeks\"], \n",
    "                    config[\"weekly_hour_multiplier\"], \n",
    "                    config[\"weeks_skipped\"])"
   ]
  },
  {
   "cell_type": "code",
   "execution_count": null,
   "metadata": {},
   "outputs": [],
   "source": [
    "from bidict import bidict\n",
    "\n",
    "assignments = []\n",
    "for i in range(len(old_state.bi_mappings)):\n",
    "    email = old_state.bi_mappings.inverse[i]\n",
    "    assignments.append(old_state.course_staff_dict[email].assigned_hours)\n",
    "\n",
    "assignments = np.stack(assignments)\n",
    "assignments"
   ]
  },
  {
   "cell_type": "code",
   "execution_count": null,
   "metadata": {},
   "outputs": [],
   "source": [
    "%load_ext autoreload\n",
    "state.get_course_staff(\"ritiksinha1@berkeley.edu\").adjust_oh_hours(-3)\n",
    "state.get_course_staff(\"cyrushung822@berkeley.edu\").adjust_oh_hours(-1)\n",
    "state.get_course_staff(\"mihirm@berkeley.edu\").adjust_oh_hours(-3)\n",
    "state.get_course_staff(\"mingxiaowei@berkeley.edu\").adjust_oh_hours(-1)\n",
    "\n",
    "state.get_course_staff(\"williamding@berkeley.edu\").adjust_oh_hours(-2)\n",
    "state.get_course_staff(\"runjeetnarula@berkeley.edu\").adjust_oh_hours(-2)\n",
    "state.get_course_staff(\"matthew.t.nguyen@berkeley.edu\").adjust_oh_hours(-2)\n",
    "state.get_course_staff(\"ananthgoyal@berkeley.edu\").adjust_oh_hours(-2)\n",
    "state.get_course_staff(\"riya.singhal@berkeley.edu\").adjust_oh_hours(-2)\n",
    "state.get_course_staff(\"suhanisinghal04@berkeley.edu\").adjust_oh_hours(-2)\n",
    "state.get_course_staff(\"ronaldarifin@berkeley.edu\").adjust_oh_hours(-2)\n",
    "\n",
    "state.get_course_staff(\"adara@berkeley.edu\").adjust_oh_hours(-2)\n",
    "state.get_course_staff(\"jadewang26@berkeley.edu\").adjust_oh_hours(-2)\n",
    "state.get_course_staff(\"mihirm@berkeley.edu\").adjust_oh_hours(-2)\n",
    "state.get_course_staff(\"awang03@berkeley.edu\").adjust_oh_hours(-2)\n",
    "state.get_course_staff(\"yihhang@berkeley.edu\").adjust_oh_hours(-2)\n",
    "\n",
    "state.get_course_staff(\"huanzhimao@berkeley.edu\").adjust_oh_hours(-2)\n",
    "state.get_course_staff(\"esduan@berkeley.edu\").adjust_oh_hours(-2)\n",
    "state.get_course_staff(\"kennywchen@berkeley.edu\").adjust_oh_hours(-2)\n",
    "state.get_course_staff(\"haileeyun@berkeley.edu\").adjust_oh_hours(-2)\n",
    "state.get_course_staff(\"ritiksinha1@berkeley.edu\").adjust_oh_hours(-2)\n",
    "state.get_course_staff(\"alan101@berkeley.edu\").adjust_oh_hours(-2)\n",
    "\n",
    "state.get_course_staff(\"richik.pal@berkeley.edu\").adjust_oh_hours(-2)\n",
    "state.get_course_staff(\"sophiawliu@berkeley.edu\").adjust_oh_hours(-2)\n",
    "state.get_course_staff(\"rikio@berkeley.edu\").adjust_oh_hours(-2)\n",
    "state.get_course_staff(\"shamith09@berkeley.edu\").adjust_oh_hours(-2)\n",
    "state.get_course_staff(\"bryanchu8@berkeley.edu\").adjust_oh_hours(-2)\n",
    "state.get_course_staff(\"vyho@berkeley.edu\").adjust_oh_hours(-2)\n",
    "state.get_course_staff(\"aureliawang@berkeley.edu\").adjust_oh_hours(-2)\n",
    "\n",
    "state.get_course_staff(\"juliaisaac@berkeley.edu\").adjust_oh_hours(1)\n",
    "state.get_course_staff(\"thomasjculhane@berkeley.edu\").adjust_oh_hours(1)\n",
    "state.get_course_staff(\"richik.pal@berkeley.edu\").adjust_oh_hours(3)\n",
    "state.get_course_staff(\"shamith09@berkeley.edu\").adjust_oh_hours(3)\n",
    "state.get_course_staff(\"esduan@berkeley.edu\").adjust_oh_hours(3)\n",
    "state.get_course_staff(\"mihirm@berkeley.edu\").adjust_oh_hours(3)\n",
    "state.get_course_staff(\"riya.singhal@berkeley.edu\").adjust_oh_hours(3)\n",
    "state.get_course_staff(\"sophiawliu@berkeley.edu\").adjust_oh_hours(3)\n",
    "state.get_course_staff(\"ananthgoyal@berkeley.edu\").adjust_oh_hours(2)"
   ]
  },
  {
   "cell_type": "code",
   "execution_count": null,
   "metadata": {},
   "outputs": [],
   "source": [
    "state.serialize(config[\"project_id\"], config[\"bucket_name\"], prefix)"
   ]
  }
 ],
 "metadata": {
  "kernelspec": {
   "display_name": "Python 3",
   "language": "python",
   "name": "python3"
  },
  "language_info": {
   "codemirror_mode": {
    "name": "ipython",
    "version": 3
   },
   "file_extension": ".py",
   "mimetype": "text/x-python",
   "name": "python",
   "nbconvert_exporter": "python",
   "pygments_lexer": "ipython3",
   "version": "3.11.3"
  }
 },
 "nbformat": 4,
 "nbformat_minor": 2
}
