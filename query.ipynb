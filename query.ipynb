{
 "cells": [
  {
   "cell_type": "code",
   "execution_count": 1,
   "metadata": {},
   "outputs": [
    {
     "name": "stdout",
     "output_type": "stream",
     "text": [
      "Requirement already satisfied: google-cloud-storage in /Users/Cyrus2021262_1/opt/anaconda3/lib/python3.8/site-packages (2.10.0)\n",
      "Requirement already satisfied: google-auth<3.0dev,>=1.25.0 in /Users/Cyrus2021262_1/opt/anaconda3/lib/python3.8/site-packages (from google-cloud-storage) (2.20.0)\n",
      "Requirement already satisfied: google-api-core!=2.0.*,!=2.1.*,!=2.2.*,!=2.3.0,<3.0.0dev,>=1.31.5 in /Users/Cyrus2021262_1/opt/anaconda3/lib/python3.8/site-packages (from google-cloud-storage) (2.10.2)\n",
      "Requirement already satisfied: google-cloud-core<3.0dev,>=2.3.0 in /Users/Cyrus2021262_1/opt/anaconda3/lib/python3.8/site-packages (from google-cloud-storage) (2.3.3)\n",
      "Requirement already satisfied: google-resumable-media>=2.3.2 in /Users/Cyrus2021262_1/opt/anaconda3/lib/python3.8/site-packages (from google-cloud-storage) (2.5.0)\n",
      "Requirement already satisfied: requests<3.0.0dev,>=2.18.0 in /Users/Cyrus2021262_1/opt/anaconda3/lib/python3.8/site-packages (from google-cloud-storage) (2.31.0)\n",
      "Requirement already satisfied: googleapis-common-protos<2.0dev,>=1.56.2 in /Users/Cyrus2021262_1/opt/anaconda3/lib/python3.8/site-packages (from google-api-core!=2.0.*,!=2.1.*,!=2.2.*,!=2.3.0,<3.0.0dev,>=1.31.5->google-cloud-storage) (1.56.4)\n",
      "Requirement already satisfied: protobuf!=3.20.0,!=3.20.1,!=4.21.0,!=4.21.1,!=4.21.2,!=4.21.3,!=4.21.4,!=4.21.5,<5.0.0dev,>=3.19.5 in /Users/Cyrus2021262_1/opt/anaconda3/lib/python3.8/site-packages (from google-api-core!=2.0.*,!=2.1.*,!=2.2.*,!=2.3.0,<3.0.0dev,>=1.31.5->google-cloud-storage) (4.21.9)\n",
      "Requirement already satisfied: cachetools<6.0,>=2.0.0 in /Users/Cyrus2021262_1/opt/anaconda3/lib/python3.8/site-packages (from google-auth<3.0dev,>=1.25.0->google-cloud-storage) (5.0.0)\n",
      "Requirement already satisfied: pyasn1-modules>=0.2.1 in /Users/Cyrus2021262_1/opt/anaconda3/lib/python3.8/site-packages (from google-auth<3.0dev,>=1.25.0->google-cloud-storage) (0.2.8)\n",
      "Requirement already satisfied: rsa<5,>=3.1.4 in /Users/Cyrus2021262_1/opt/anaconda3/lib/python3.8/site-packages (from google-auth<3.0dev,>=1.25.0->google-cloud-storage) (4.8)\n",
      "Requirement already satisfied: six>=1.9.0 in /Users/Cyrus2021262_1/opt/anaconda3/lib/python3.8/site-packages (from google-auth<3.0dev,>=1.25.0->google-cloud-storage) (1.15.0)\n",
      "Requirement already satisfied: urllib3<2.0 in /Users/Cyrus2021262_1/opt/anaconda3/lib/python3.8/site-packages (from google-auth<3.0dev,>=1.25.0->google-cloud-storage) (1.26.4)\n",
      "Requirement already satisfied: google-crc32c<2.0dev,>=1.0 in /Users/Cyrus2021262_1/opt/anaconda3/lib/python3.8/site-packages (from google-resumable-media>=2.3.2->google-cloud-storage) (1.5.0)\n",
      "Requirement already satisfied: charset-normalizer<4,>=2 in /Users/Cyrus2021262_1/opt/anaconda3/lib/python3.8/site-packages (from requests<3.0.0dev,>=2.18.0->google-cloud-storage) (2.0.12)\n",
      "Requirement already satisfied: idna<4,>=2.5 in /Users/Cyrus2021262_1/opt/anaconda3/lib/python3.8/site-packages (from requests<3.0.0dev,>=2.18.0->google-cloud-storage) (2.10)\n",
      "Requirement already satisfied: certifi>=2017.4.17 in /Users/Cyrus2021262_1/opt/anaconda3/lib/python3.8/site-packages (from requests<3.0.0dev,>=2.18.0->google-cloud-storage) (2020.12.5)\n",
      "Requirement already satisfied: pyasn1<0.5.0,>=0.4.6 in /Users/Cyrus2021262_1/opt/anaconda3/lib/python3.8/site-packages (from pyasn1-modules>=0.2.1->google-auth<3.0dev,>=1.25.0->google-cloud-storage) (0.4.8)\n",
      "\u001b[33mDEPRECATION: pyodbc 4.0.0-unsupported has a non-standard version number. pip 23.3 will enforce this behaviour change. A possible replacement is to upgrade to a newer version of pyodbc or contact the author to suggest that they release a version with a conforming version number. Discussion can be found at https://github.com/pypa/pip/issues/12063\u001b[0m\u001b[33m\n",
      "\u001b[0m\n",
      "\u001b[1m[\u001b[0m\u001b[34;49mnotice\u001b[0m\u001b[1;39;49m]\u001b[0m\u001b[39;49m A new release of pip is available: \u001b[0m\u001b[31;49m23.2\u001b[0m\u001b[39;49m -> \u001b[0m\u001b[32;49m23.2.1\u001b[0m\n",
      "\u001b[1m[\u001b[0m\u001b[34;49mnotice\u001b[0m\u001b[1;39;49m]\u001b[0m\u001b[39;49m To update, run: \u001b[0m\u001b[32;49mpip install --upgrade pip\u001b[0m\n",
      "Requirement already satisfied: cvxpy in /Users/Cyrus2021262_1/opt/anaconda3/lib/python3.8/site-packages (1.3.2)\n",
      "Requirement already satisfied: osqp>=0.4.1 in /Users/Cyrus2021262_1/opt/anaconda3/lib/python3.8/site-packages (from cvxpy) (0.6.3)\n",
      "Requirement already satisfied: ecos>=2 in /Users/Cyrus2021262_1/opt/anaconda3/lib/python3.8/site-packages (from cvxpy) (2.0.12)\n",
      "Requirement already satisfied: scs>=1.1.6 in /Users/Cyrus2021262_1/opt/anaconda3/lib/python3.8/site-packages (from cvxpy) (3.2.3)\n",
      "Requirement already satisfied: numpy>=1.15 in /Users/Cyrus2021262_1/opt/anaconda3/lib/python3.8/site-packages (from cvxpy) (1.22.2)\n",
      "Requirement already satisfied: scipy>=1.1.0 in /Users/Cyrus2021262_1/opt/anaconda3/lib/python3.8/site-packages (from cvxpy) (1.6.2)\n",
      "Requirement already satisfied: setuptools>65.5.1 in /Users/Cyrus2021262_1/opt/anaconda3/lib/python3.8/site-packages (from cvxpy) (68.2.0)\n",
      "Requirement already satisfied: qdldl in /Users/Cyrus2021262_1/opt/anaconda3/lib/python3.8/site-packages (from osqp>=0.4.1->cvxpy) (0.1.7.post0)\n",
      "\u001b[33mDEPRECATION: pyodbc 4.0.0-unsupported has a non-standard version number. pip 23.3 will enforce this behaviour change. A possible replacement is to upgrade to a newer version of pyodbc or contact the author to suggest that they release a version with a conforming version number. Discussion can be found at https://github.com/pypa/pip/issues/12063\u001b[0m\u001b[33m\n",
      "\u001b[0m\n",
      "\u001b[1m[\u001b[0m\u001b[34;49mnotice\u001b[0m\u001b[1;39;49m]\u001b[0m\u001b[39;49m A new release of pip is available: \u001b[0m\u001b[31;49m23.2\u001b[0m\u001b[39;49m -> \u001b[0m\u001b[32;49m23.2.1\u001b[0m\n",
      "\u001b[1m[\u001b[0m\u001b[34;49mnotice\u001b[0m\u001b[1;39;49m]\u001b[0m\u001b[39;49m To update, run: \u001b[0m\u001b[32;49mpip install --upgrade pip\u001b[0m\n",
      "Requirement already satisfied: cvxopt in /Users/Cyrus2021262_1/opt/anaconda3/lib/python3.8/site-packages (1.3.2)\n",
      "\u001b[33mDEPRECATION: pyodbc 4.0.0-unsupported has a non-standard version number. pip 23.3 will enforce this behaviour change. A possible replacement is to upgrade to a newer version of pyodbc or contact the author to suggest that they release a version with a conforming version number. Discussion can be found at https://github.com/pypa/pip/issues/12063\u001b[0m\u001b[33m\n",
      "\u001b[0m\n",
      "\u001b[1m[\u001b[0m\u001b[34;49mnotice\u001b[0m\u001b[1;39;49m]\u001b[0m\u001b[39;49m A new release of pip is available: \u001b[0m\u001b[31;49m23.2\u001b[0m\u001b[39;49m -> \u001b[0m\u001b[32;49m23.2.1\u001b[0m\n",
      "\u001b[1m[\u001b[0m\u001b[34;49mnotice\u001b[0m\u001b[1;39;49m]\u001b[0m\u001b[39;49m To update, run: \u001b[0m\u001b[32;49mpip install --upgrade pip\u001b[0m\n"
     ]
    }
   ],
   "source": [
    "!pip install --upgrade google-cloud-storage\n",
    "!pip install cvxpy\n",
    "!pip install cvxopt"
   ]
  },
  {
   "cell_type": "code",
   "execution_count": 2,
   "metadata": {},
   "outputs": [],
   "source": [
    "import State\n",
    "import utils\n",
    "import os"
   ]
  },
  {
   "cell_type": "code",
   "execution_count": 62,
   "metadata": {},
   "outputs": [
    {
     "name": "stdout",
     "output_type": "stream",
     "text": [
      "The autoreload extension is already loaded. To reload it, use:\n",
      "  %reload_ext autoreload\n",
      "-1\n"
     ]
    }
   ],
   "source": [
    "%load_ext autoreload\n",
    "import config_read\n",
    "import send_email\n",
    "import utils\n",
    "import State\n",
    "import tests \n",
    "import os\n",
    "import numpy as np\n",
    "import shutil\n",
    "from datetime import timedelta\n",
    "import re\n",
    "from google.cloud import storage\n",
    "from google.api_core.exceptions import Forbidden, NotFound\n",
    "import validation\n",
    "import algorithm\n",
    "\n",
    "AVAILABILITIES_RANGE = 'Form Responses 1!B1:BP'\n",
    "DEMAND_RANGE = 'Demand!A2:E'\n",
    "\n",
    "config = config_read.read_config(\"config.json\")\n",
    "validation.validate_config(config)\n",
    "\n",
    "# Get availabilities data\n",
    "availabilities_id = config_read.get_google_sheets_id(config[\"availabilities_link\"])\n",
    "availabilities = utils.get_availabilities(availabilities_id, AVAILABILITIES_RANGE)\n",
    "validation.validate_availabilities(availabilities)\n",
    "\n",
    "# Get OH demand data\n",
    "demand_id = config_read.get_google_sheets_id(config[\"demand_link\"])\n",
    "demand = utils.get_demand(demand_id, DEMAND_RANGE, config[\"weeks\"])\n",
    "\n",
    "# Get last state\n",
    "prefix = f\"{config['class']}-{config['semester']}\"\n",
    "latest_week = -1\n",
    "print(latest_week)\n",
    "if latest_week > -1:\n",
    "    last_state = utils.deserialize(config.get(\"project_id\"), config[\"bucket_name\"], latest_week, config[\"weeks_skipped\"], prefix)\n",
    "else:\n",
    "    last_state = None\n",
    "\n",
    "if last_state and last_state.week_num == config[\"weeks\"]:\n",
    "    print(f\"ERROR: The algorithm has already been run for all weeks. The last state was for week {config['weeks']}. Exiting.\")\n",
    "\n",
    "if latest_week == config['weeks']:\n",
    "    raise RuntimeError(\"Allotted # of weeks have already passed. Exiting.\")\n",
    "\n",
    "# Create new state object\n",
    "state = State.State(last_state, \n",
    "                    demand, \n",
    "                    availabilities, \n",
    "                    config[\"class\"], \n",
    "                    config[\"semester\"], \n",
    "                    config[\"weeks\"], \n",
    "                    config[\"weekly_hour_multiplier\"], \n",
    "                    config[\"weeks_skipped\"])"
   ]
  },
  {
   "cell_type": "code",
   "execution_count": 74,
   "metadata": {},
   "outputs": [
    {
     "data": {
      "text/plain": [
       "array([[[ 0.,  0.,  0., ...,  0.,  0.,  0.],\n",
       "        [ 0., -0.,  0., ...,  1., -0.,  0.],\n",
       "        [ 0.,  0.,  0., ..., -0., -0.,  0.],\n",
       "        [ 0., -0.,  0., ...,  0., -0.,  0.],\n",
       "        [ 0.,  0.,  0., ...,  0.,  0.,  0.]],\n",
       "\n",
       "       [[ 0.,  0.,  0., ...,  0.,  0.,  0.],\n",
       "        [ 0.,  0.,  0., ...,  0.,  1.,  0.],\n",
       "        [ 0.,  0.,  0., ...,  0., -0.,  0.],\n",
       "        [ 1.,  0.,  0., ...,  0., -0.,  0.],\n",
       "        [ 0.,  0.,  0., ...,  0.,  0.,  0.]],\n",
       "\n",
       "       [[ 0.,  0.,  0., ...,  0.,  0.,  0.],\n",
       "        [ 0.,  0.,  0., ...,  0.,  0.,  0.],\n",
       "        [ 0.,  0.,  0., ...,  0.,  0.,  0.],\n",
       "        [ 0.,  0.,  0., ...,  0.,  0.,  0.],\n",
       "        [ 0.,  0.,  0., ...,  0.,  0.,  0.]],\n",
       "\n",
       "       ...,\n",
       "\n",
       "       [[ 0.,  0.,  0., ...,  0.,  0.,  0.],\n",
       "        [ 0.,  0.,  0., ...,  1.,  0.,  0.],\n",
       "        [ 0.,  0.,  0., ..., -0.,  0.,  0.],\n",
       "        [ 0.,  1., -0., ...,  0.,  0.,  0.],\n",
       "        [ 0.,  0.,  0., ...,  0.,  0.,  0.]],\n",
       "\n",
       "       [[ 0.,  0.,  0., ...,  0.,  0.,  0.],\n",
       "        [ 0.,  0.,  1., ...,  0.,  0.,  0.],\n",
       "        [ 0.,  0.,  0., ...,  0.,  0.,  0.],\n",
       "        [ 0.,  0.,  1., ...,  0.,  0.,  0.],\n",
       "        [ 0.,  0.,  0., ...,  0.,  0.,  0.]],\n",
       "\n",
       "       [[ 0.,  0.,  0., ...,  0.,  0.,  0.],\n",
       "        [ 0.,  0.,  0., ...,  0.,  0.,  0.],\n",
       "        [ 0.,  0.,  0., ...,  0.,  0.,  0.],\n",
       "        [ 0.,  0.,  0., ...,  0.,  0.,  0.],\n",
       "        [ 0.,  0.,  0., ...,  0.,  0.,  0.]]])"
      ]
     },
     "execution_count": 74,
     "metadata": {},
     "output_type": "execute_result"
    }
   ],
   "source": [
    "from bidict import bidict\n",
    "\n",
    "assignments = []\n",
    "for i in range(len(old_state.bi_mappings)):\n",
    "    email = old_state.bi_mappings.inverse[i]\n",
    "    assignments.append(old_state.course_staff_dict[email].assigned_hours)\n",
    "\n",
    "assignments = np.stack(assignments)\n",
    "assignments"
   ]
  },
  {
   "cell_type": "code",
   "execution_count": 90,
   "metadata": {},
   "outputs": [
    {
     "name": "stdout",
     "output_type": "stream",
     "text": [
      "The autoreload extension is already loaded. To reload it, use:\n",
      "  %reload_ext autoreload\n"
     ]
    }
   ],
   "source": [
    "%load_ext autoreload\n",
    "state.get_course_staff(\"ritiksinha1@berkeley.edu\").adjust_oh_hours(-3)\n",
    "state.get_course_staff(\"cyrushung822@berkeley.edu\").adjust_oh_hours(-1)\n",
    "state.get_course_staff(\"mihirm@berkeley.edu\").adjust_oh_hours(-3)\n",
    "state.get_course_staff(\"mingxiaowei@berkeley.edu\").adjust_oh_hours(-1)\n",
    "\n",
    "state.get_course_staff(\"williamding@berkeley.edu\").adjust_oh_hours(-2)\n",
    "state.get_course_staff(\"runjeetnarula@berkeley.edu\").adjust_oh_hours(-2)\n",
    "state.get_course_staff(\"matthew.t.nguyen@berkeley.edu\").adjust_oh_hours(-2)\n",
    "state.get_course_staff(\"ananthgoyal@berkeley.edu\").adjust_oh_hours(-2)\n",
    "state.get_course_staff(\"riya.singhal@berkeley.edu\").adjust_oh_hours(-2)\n",
    "state.get_course_staff(\"suhanisinghal04@berkeley.edu\").adjust_oh_hours(-2)\n",
    "state.get_course_staff(\"ronaldarifin@berkeley.edu\").adjust_oh_hours(-2)\n",
    "\n",
    "state.get_course_staff(\"adara@berkeley.edu\").adjust_oh_hours(-2)\n",
    "state.get_course_staff(\"jadewang26@berkeley.edu\").adjust_oh_hours(-2)\n",
    "state.get_course_staff(\"mihirm@berkeley.edu\").adjust_oh_hours(-2)\n",
    "state.get_course_staff(\"awang03@berkeley.edu\").adjust_oh_hours(-2)\n",
    "state.get_course_staff(\"yihhang@berkeley.edu\").adjust_oh_hours(-2)\n",
    "\n",
    "state.get_course_staff(\"huanzhimao@berkeley.edu\").adjust_oh_hours(-2)\n",
    "state.get_course_staff(\"esduan@berkeley.edu\").adjust_oh_hours(-2)\n",
    "state.get_course_staff(\"kennywchen@berkeley.edu\").adjust_oh_hours(-2)\n",
    "state.get_course_staff(\"haileeyun@berkeley.edu\").adjust_oh_hours(-2)\n",
    "state.get_course_staff(\"ritiksinha1@berkeley.edu\").adjust_oh_hours(-2)\n",
    "state.get_course_staff(\"alan101@berkeley.edu\").adjust_oh_hours(-2)\n",
    "\n",
    "state.get_course_staff(\"richik.pal@berkeley.edu\").adjust_oh_hours(-2)\n",
    "state.get_course_staff(\"sophiawliu@berkeley.edu\").adjust_oh_hours(-2)\n",
    "state.get_course_staff(\"rikio@berkeley.edu\").adjust_oh_hours(-2)\n",
    "state.get_course_staff(\"shamith09@berkeley.edu\").adjust_oh_hours(-2)\n",
    "state.get_course_staff(\"bryanchu8@berkeley.edu\").adjust_oh_hours(-2)\n",
    "state.get_course_staff(\"vyho@berkeley.edu\").adjust_oh_hours(-2)\n",
    "state.get_course_staff(\"aureliawang@berkeley.edu\").adjust_oh_hours(-2)\n",
    "\n",
    "state.get_course_staff(\"juliaisaac@berkeley.edu\").adjust_oh_hours(1)\n",
    "state.get_course_staff(\"thomasjculhane@berkeley.edu\").adjust_oh_hours(1)\n",
    "state.get_course_staff(\"richik.pal@berkeley.edu\").adjust_oh_hours(3)\n",
    "state.get_course_staff(\"shamith09@berkeley.edu\").adjust_oh_hours(3)\n",
    "state.get_course_staff(\"esduan@berkeley.edu\").adjust_oh_hours(3)\n",
    "state.get_course_staff(\"mihirm@berkeley.edu\").adjust_oh_hours(3)\n",
    "state.get_course_staff(\"riya.singhal@berkeley.edu\").adjust_oh_hours(3)\n",
    "state.get_course_staff(\"sophiawliu@berkeley.edu\").adjust_oh_hours(3)\n",
    "state.get_course_staff(\"ananthgoyal@berkeley.edu\").adjust_oh_hours(2)"
   ]
  },
  {
   "cell_type": "code",
   "execution_count": 95,
   "metadata": {},
   "outputs": [
    {
     "name": "stdout",
     "output_type": "stream",
     "text": [
      "Creating new blob for state 3\n",
      "File uploaded successfully for state 3\n"
     ]
    }
   ],
   "source": [
    "state.serialize(config[\"project_id\"], config[\"bucket_name\"], prefix)"
   ]
  },
  {
   "cell_type": "raw",
   "metadata": {},
   "source": []
  }
 ],
 "metadata": {
  "kernelspec": {
   "display_name": "Python 3",
   "language": "python",
   "name": "python3"
  },
  "language_info": {
   "codemirror_mode": {
    "name": "ipython",
    "version": 3
   },
   "file_extension": ".py",
   "mimetype": "text/x-python",
   "name": "python",
   "nbconvert_exporter": "python",
   "pygments_lexer": "ipython3",
   "version": "3.8.8"
  }
 },
 "nbformat": 4,
 "nbformat_minor": 2
}
