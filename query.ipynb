{
 "cells": [
  {
   "cell_type": "code",
   "execution_count": 70,
   "metadata": {},
   "outputs": [],
   "source": [
    "import numpy as np"
   ]
  },
  {
   "cell_type": "code",
   "execution_count": 71,
   "metadata": {},
   "outputs": [],
   "source": [
    "a = np.load(\"new_assignments.npy\")\n",
    "d = np.load(\"demand.npy\")"
   ]
  },
  {
   "cell_type": "code",
   "execution_count": 77,
   "metadata": {},
   "outputs": [
    {
     "data": {
      "text/plain": [
       "array([[0., 0., 0., 0., 0., 0., 0., 0., 0., 0., 0., 0.],\n",
       "       [0., 0., 0., 0., 0., 0., 0., 0., 0., 0., 0., 0.],\n",
       "       [0., 0., 0., 0., 0., 0., 0., 0., 0., 0., 0., 0.],\n",
       "       [0., 0., 0., 0., 0., 0., 0., 0., 0., 0., 0., 0.],\n",
       "       [0., 0., 0., 0., 0., 0., 0., 0., 0., 0., 0., 0.]])"
      ]
     },
     "execution_count": 77,
     "metadata": {},
     "output_type": "execute_result"
    }
   ],
   "source": [
    "a[:, 0, :, :].sum(0) - d[3]"
   ]
  },
  {
   "cell_type": "code",
   "execution_count": 78,
   "metadata": {},
   "outputs": [
    {
     "data": {
      "text/plain": [
       "array([[ 3.,  2.,  2.,  1.,  3.],\n",
       "       [ 3.,  9.,  4.,  5.,  6.],\n",
       "       [ 5.,  9.,  7.,  5.,  5.],\n",
       "       [ 1.,  2.,  3.,  3.,  0.],\n",
       "       [ 4.,  5.,  6.,  8.,  5.],\n",
       "       [ 4.,  4.,  6.,  4.,  4.],\n",
       "       [ 4., 10.,  8.,  9.,  7.],\n",
       "       [ 3., 10.,  6.,  8.,  5.],\n",
       "       [ 4.,  4.,  4.,  4.,  5.],\n",
       "       [ 3.,  5.,  4.,  5.,  5.],\n",
       "       [ 4., 10., 10.,  6.,  8.],\n",
       "       [ 2.,  2.,  2.,  2.,  0.],\n",
       "       [ 4.,  4.,  4.,  4.,  3.],\n",
       "       [ 3.,  3.,  5.,  6.,  4.],\n",
       "       [ 3.,  4.,  4.,  4.,  2.],\n",
       "       [ 2.,  4.,  3.,  4.,  0.],\n",
       "       [ 2.,  4.,  3.,  3.,  3.],\n",
       "       [ 5.,  4.,  4.,  4.,  2.],\n",
       "       [ 2.,  3.,  4.,  3.,  3.],\n",
       "       [ 2.,  2.,  3.,  3.,  2.],\n",
       "       [ 2.,  4.,  3.,  4.,  3.],\n",
       "       [ 2.,  5.,  5.,  6.,  2.]])"
      ]
     },
     "execution_count": 78,
     "metadata": {},
     "output_type": "execute_result"
    }
   ],
   "source": [
    "a.sum((2, 3))"
   ]
  }
 ],
 "metadata": {
  "kernelspec": {
   "display_name": "OH_scheduler",
   "language": "python",
   "name": "python3"
  },
  "language_info": {
   "codemirror_mode": {
    "name": "ipython",
    "version": 3
   },
   "file_extension": ".py",
   "mimetype": "text/x-python",
   "name": "python",
   "nbconvert_exporter": "python",
   "pygments_lexer": "ipython3",
   "version": "3.11.3"
  },
  "orig_nbformat": 4
 },
 "nbformat": 4,
 "nbformat_minor": 2
}
