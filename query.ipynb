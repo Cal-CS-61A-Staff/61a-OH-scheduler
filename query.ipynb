{
 "cells": [
  {
   "cell_type": "code",
   "execution_count": 1,
   "metadata": {},
   "outputs": [],
   "source": [
    "import numpy as np"
   ]
  },
  {
   "cell_type": "code",
   "execution_count": 2,
   "metadata": {},
   "outputs": [],
   "source": [
    "a = np.load(\"assignments.npy\")\n",
    "d = np.load(\"demand.npy\")\n",
    "av = np.load(\"availabiltiies.npy\")"
   ]
  },
  {
   "cell_type": "code",
   "execution_count": 3,
   "metadata": {},
   "outputs": [
    {
     "data": {
      "text/plain": [
       "array([[0., 0., 0., 0., 0., 0., 0., 0., 0., 0., 0., 0.],\n",
       "       [0., 0., 0., 0., 0., 0., 0., 0., 0., 0., 0., 0.],\n",
       "       [0., 0., 0., 0., 0., 0., 0., 0., 0., 0., 0., 0.],\n",
       "       [0., 0., 0., 0., 0., 0., 0., 0., 0., 0., 0., 0.],\n",
       "       [0., 0., 0., 0., 0., 0., 0., 0., 0., 0., 0., 0.]])"
      ]
     },
     "execution_count": 3,
     "metadata": {},
     "output_type": "execute_result"
    }
   ],
   "source": [
    "a[:, 0, :, :].sum(0) - d[11]"
   ]
  },
  {
   "cell_type": "code",
   "execution_count": 4,
   "metadata": {},
   "outputs": [
    {
     "data": {
      "text/plain": [
       "array([4., 4., 4., 2., 3., 4., 3.])"
      ]
     },
     "execution_count": 4,
     "metadata": {},
     "output_type": "execute_result"
    }
   ],
   "source": [
    "a[:, 0, :, :].sum((1, 2))"
   ]
  },
  {
   "cell_type": "code",
   "execution_count": 5,
   "metadata": {},
   "outputs": [
    {
     "data": {
      "text/plain": [
       "array([[[5, 5, 5, 5, 5, 5, 5, 5, 5, 5, 5, 5],\n",
       "        [5, 5, 5, 5, 5, 5, 5, 5, 5, 5, 5, 5],\n",
       "        [5, 5, 5, 5, 5, 1, 1, 5, 1, 5, 5, 5],\n",
       "        [5, 5, 5, 5, 5, 5, 5, 5, 1, 5, 5, 5],\n",
       "        [5, 5, 5, 5, 5, 5, 5, 5, 5, 5, 5, 5]],\n",
       "\n",
       "       [[5, 5, 5, 5, 5, 5, 5, 5, 5, 5, 5, 5],\n",
       "        [5, 1, 5, 5, 5, 5, 5, 5, 5, 5, 5, 5],\n",
       "        [2, 2, 2, 5, 5, 5, 4, 4, 1, 1, 5, 5],\n",
       "        [5, 5, 5, 5, 5, 4, 4, 4, 1, 1, 5, 5],\n",
       "        [1, 1, 1, 5, 5, 5, 4, 4, 1, 1, 5, 5]],\n",
       "\n",
       "       [[3, 5, 5, 5, 5, 5, 4, 4, 4, 4, 4, 4],\n",
       "        [5, 5, 4, 4, 4, 1, 1, 3, 5, 5, 4, 4],\n",
       "        [1, 1, 5, 5, 5, 5, 5, 5, 1, 1, 1, 5],\n",
       "        [5, 5, 5, 5, 4, 3, 3, 5, 5, 5, 3, 3],\n",
       "        [4, 4, 5, 5, 5, 5, 3, 5, 5, 5, 5, 5]],\n",
       "\n",
       "       [[5, 5, 5, 1, 1, 1, 1, 3, 5, 5, 5, 5],\n",
       "        [3, 3, 3, 5, 5, 5, 3, 5, 5, 5, 5, 5],\n",
       "        [5, 5, 5, 3, 5, 3, 3, 3, 5, 5, 5, 5],\n",
       "        [3, 3, 3, 5, 5, 5, 3, 5, 5, 5, 5, 5],\n",
       "        [5, 5, 5, 3, 3, 3, 3, 5, 5, 5, 5, 5]],\n",
       "\n",
       "       [[4, 5, 1, 1, 5, 5, 4, 5, 3, 3, 4, 4],\n",
       "        [5, 5, 4, 4, 1, 5, 5, 5, 5, 5, 5, 3],\n",
       "        [4, 5, 3, 3, 1, 1, 1, 1, 5, 5, 5, 4],\n",
       "        [5, 5, 4, 1, 1, 5, 5, 5, 5, 5, 5, 5],\n",
       "        [4, 5, 5, 5, 5, 5, 1, 1, 1, 1, 1, 4]],\n",
       "\n",
       "       [[4, 5, 3, 3, 5, 1, 1, 1, 5, 5, 4, 5],\n",
       "        [5, 5, 4, 5, 5, 5, 5, 1, 1, 3, 5, 5],\n",
       "        [4, 5, 3, 3, 5, 1, 1, 1, 5, 5, 4, 5],\n",
       "        [5, 5, 3, 5, 5, 5, 5, 1, 1, 3, 4, 5],\n",
       "        [4, 5, 3, 3, 5, 1, 1, 1, 3, 4, 5, 5]],\n",
       "\n",
       "       [[5, 4, 4, 5, 5, 4, 5, 1, 5, 5, 4, 4],\n",
       "        [4, 4, 3, 5, 5, 3, 3, 3, 3, 3, 4, 5],\n",
       "        [4, 4, 4, 5, 5, 4, 5, 4, 5, 5, 5, 5],\n",
       "        [4, 3, 3, 5, 3, 2, 3, 3, 3, 4, 5, 5],\n",
       "        [4, 2, 2, 2, 3, 3, 3, 3, 5, 5, 5, 5]]])"
      ]
     },
     "execution_count": 5,
     "metadata": {},
     "output_type": "execute_result"
    }
   ],
   "source": [
    "av"
   ]
  },
  {
   "cell_type": "code",
   "execution_count": null,
   "metadata": {},
   "outputs": [],
   "source": []
  }
 ],
 "metadata": {
  "kernelspec": {
   "display_name": "OH_scheduler",
   "language": "python",
   "name": "python3"
  },
  "language_info": {
   "codemirror_mode": {
    "name": "ipython",
    "version": 3
   },
   "file_extension": ".py",
   "mimetype": "text/x-python",
   "name": "python",
   "nbconvert_exporter": "python",
   "pygments_lexer": "ipython3",
   "version": "3.11.3"
  },
  "orig_nbformat": 4
 },
 "nbformat": 4,
 "nbformat_minor": 2
}
