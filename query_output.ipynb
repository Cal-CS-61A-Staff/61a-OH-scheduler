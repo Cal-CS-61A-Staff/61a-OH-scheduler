{
 "cells": [
  {
   "cell_type": "code",
   "execution_count": 11,
   "metadata": {},
   "outputs": [],
   "source": [
    "import numpy as np"
   ]
  },
  {
   "cell_type": "code",
   "execution_count": 12,
   "metadata": {},
   "outputs": [],
   "source": [
    "a = np.load(\"assignments.npy\")\n",
    "d = np.load(\"demand.npy\")"
   ]
  },
  {
   "cell_type": "code",
   "execution_count": 13,
   "metadata": {},
   "outputs": [
    {
     "data": {
      "text/plain": [
       "array([[ 0.,  0.,  0.,  0.,  0.,  0.,  0.,  0., -3., -3., -3.,  0.],\n",
       "       [ 0.,  0.,  0.,  0.,  0.,  0.,  0.,  0., -1., -2., -3.,  0.],\n",
       "       [ 0.,  0.,  0.,  0.,  0.,  0., -3., -2., -3., -3., -3.,  0.],\n",
       "       [ 0., -1.,  0.,  0.,  0.,  0.,  0.,  0., -3., -3., -3.,  0.],\n",
       "       [ 0.,  0.,  0.,  0.,  0.,  0.,  0.,  0.,  0.,  0.,  0.,  0.]])"
      ]
     },
     "execution_count": 13,
     "metadata": {},
     "output_type": "execute_result"
    }
   ],
   "source": [
    "a[:, 0, :, :].sum(0) - d[13]"
   ]
  },
  {
   "cell_type": "code",
   "execution_count": 14,
   "metadata": {},
   "outputs": [
    {
     "data": {
      "text/plain": [
       "array([[0., 0., 0., 0., 0., 0., 0., 0., 5., 5., 5., 0.],\n",
       "       [4., 4., 0., 0., 0., 0., 0., 6., 5., 4., 3., 0.],\n",
       "       [0., 0., 0., 0., 0., 0., 3., 6., 5., 5., 3., 0.],\n",
       "       [4., 5., 6., 0., 0., 0., 0., 0., 9., 9., 7., 0.],\n",
       "       [0., 0., 0., 0., 0., 0., 0., 0., 0., 0., 0., 0.]])"
      ]
     },
     "execution_count": 14,
     "metadata": {},
     "output_type": "execute_result"
    }
   ],
   "source": [
    "a[:, 0, :, :].sum(0)"
   ]
  },
  {
   "cell_type": "code",
   "execution_count": 15,
   "metadata": {},
   "outputs": [
    {
     "data": {
      "text/plain": [
       "array([5., 6., 5., 4., 6., 6., 6., 8., 8., 7., 7., 6., 6., 5., 3., 4., 5.,\n",
       "       1., 1., 4.])"
      ]
     },
     "execution_count": 15,
     "metadata": {},
     "output_type": "execute_result"
    }
   ],
   "source": [
    "a[:, 0, :, :].sum((1, 2))"
   ]
  }
 ],
 "metadata": {
  "kernelspec": {
   "display_name": "OH_scheduler",
   "language": "python",
   "name": "python3"
  },
  "language_info": {
   "codemirror_mode": {
    "name": "ipython",
    "version": 3
   },
   "file_extension": ".py",
   "mimetype": "text/x-python",
   "name": "python",
   "nbconvert_exporter": "python",
   "pygments_lexer": "ipython3",
   "version": "3.11.3"
  }
 },
 "nbformat": 4,
 "nbformat_minor": 2
}
